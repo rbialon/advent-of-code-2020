{
 "metadata": {
  "language_info": {
   "codemirror_mode": {
    "name": "ipython",
    "version": 3
   },
   "file_extension": ".py",
   "mimetype": "text/x-python",
   "name": "python",
   "nbconvert_exporter": "python",
   "pygments_lexer": "ipython3",
   "version": "3.9.0-final"
  },
  "orig_nbformat": 2,
  "kernelspec": {
   "name": "python3",
   "display_name": "Python 3"
  }
 },
 "nbformat": 4,
 "nbformat_minor": 2,
 "cells": [
  {
   "cell_type": "code",
   "execution_count": 1,
   "metadata": {},
   "outputs": [],
   "source": [
    "with open(\"input.txt\") as f:\n",
    "    puzzle = f.read().split(\"\\n\")"
   ]
  },
  {
   "source": [
    "## Part 1"
   ],
   "cell_type": "markdown",
   "metadata": {}
  },
  {
   "cell_type": "code",
   "execution_count": 2,
   "metadata": {},
   "outputs": [
    {
     "output_type": "stream",
     "name": "stdout",
     "text": [
      "8471403462063\nCPU times: user 5.2 ms, sys: 0 ns, total: 5.2 ms\nWall time: 5.55 ms\n"
     ]
    }
   ],
   "source": [
    "%%time\n",
    "\n",
    "import re\n",
    "\n",
    "def apply_mask(mask: str, number: int):\n",
    "    number = f\"{number:036b}\"\n",
    "\n",
    "    result = \"\"\n",
    "\n",
    "    for m, n in zip(mask, number):\n",
    "        if m == \"X\":\n",
    "            result += n\n",
    "        else:\n",
    "            result += m\n",
    "\n",
    "    return int(result, 2)\n",
    "\n",
    "\n",
    "memory = {}\n",
    "pattern = re.compile(\"mem\\[(\\d+)\\] = (\\d+)\")\n",
    "\n",
    "for line in puzzle:\n",
    "    if \"mask\" in line:\n",
    "        _, mask = line.split(\"= \")\n",
    "    else:\n",
    "        match = pattern.match(line)\n",
    "        address = int(match.group(1))\n",
    "        number = int(match.group(2))\n",
    "\n",
    "        memory[address] = apply_mask(mask, number)\n",
    "\n",
    "print(sum(memory.values()))"
   ]
  },
  {
   "source": [
    "## Part 2"
   ],
   "cell_type": "markdown",
   "metadata": {}
  },
  {
   "cell_type": "code",
   "execution_count": 3,
   "metadata": {
    "tags": []
   },
   "outputs": [
    {
     "output_type": "stream",
     "name": "stdout",
     "text": [
      "2667858637669\nCPU times: user 283 ms, sys: 8.54 ms, total: 292 ms\nWall time: 296 ms\n"
     ]
    }
   ],
   "source": [
    "%%time \n",
    "\n",
    "def apply_memory_mask(mask: str, address: int):\n",
    "    def apply_recursive(results, result, mask, address):\n",
    "        if not mask:\n",
    "            results.append(result)\n",
    "\n",
    "        elif mask[0] == \"0\":\n",
    "            apply_recursive(results, result + address[0], mask[1:], address[1:])\n",
    "        \n",
    "        elif mask[0] == \"1\":\n",
    "            apply_recursive(results, result + \"1\", mask[1:], address[1:])\n",
    "\n",
    "        elif mask[0] == \"X\":\n",
    "            apply_recursive(results, result + \"0\", mask[1:], address[1:])\n",
    "            apply_recursive(results, result + \"1\", mask[1:], address[1:])\n",
    "\n",
    "    address = f\"{address:036b}\"\n",
    "\n",
    "    results = []\n",
    "    apply_recursive(results, \"\", mask, address)\n",
    "\n",
    "    return list(map(lambda x: int(x, 2), results))\n",
    "\n",
    "\n",
    "memory = {}\n",
    "pattern = re.compile(\"mem\\[(\\d+)\\] = (\\d+)\")\n",
    "\n",
    "for line in puzzle:\n",
    "    if \"mask\" in line:\n",
    "        _, mask = line.split(\"= \")\n",
    "    else:\n",
    "        match = pattern.match(line)\n",
    "        address = int(match.group(1))\n",
    "        number = int(match.group(2))\n",
    "\n",
    "        for i in apply_memory_mask(mask, address):\n",
    "            memory[i] = number\n",
    "\n",
    "print(sum(memory.values()))"
   ]
  }
 ]
}