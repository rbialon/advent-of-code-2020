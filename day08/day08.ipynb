{
 "metadata": {
  "language_info": {
   "codemirror_mode": {
    "name": "ipython",
    "version": 3
   },
   "file_extension": ".py",
   "mimetype": "text/x-python",
   "name": "python",
   "nbconvert_exporter": "python",
   "pygments_lexer": "ipython3",
   "version": "3.9.0-final"
  },
  "orig_nbformat": 2,
  "kernelspec": {
   "name": "python3",
   "display_name": "Python 3"
  }
 },
 "nbformat": 4,
 "nbformat_minor": 2,
 "cells": [
  {
   "cell_type": "code",
   "execution_count": 1,
   "metadata": {},
   "outputs": [],
   "source": [
    "with open(\"input.txt\") as f:\n",
    "    puzzle = f.read().split(\"\\n\")"
   ]
  },
  {
   "source": [
    "## Part 1"
   ],
   "cell_type": "markdown",
   "metadata": {}
  },
  {
   "cell_type": "code",
   "execution_count": 2,
   "metadata": {},
   "outputs": [
    {
     "output_type": "stream",
     "name": "stdout",
     "text": [
      "1671\nCPU times: user 1.45 ms, sys: 0 ns, total: 1.45 ms\nWall time: 1.4 ms\n"
     ]
    }
   ],
   "source": [
    "%%time\n",
    "\n",
    "index = 0\n",
    "accumulator = 0\n",
    "executed_instructions = set()\n",
    "\n",
    "while True:\n",
    "    instruction, value = puzzle[index].split()\n",
    "    value = int(value)\n",
    "\n",
    "    if index in executed_instructions:\n",
    "        print(accumulator)\n",
    "        break\n",
    "\n",
    "    executed_instructions.add(index)\n",
    "\n",
    "    if instruction == \"nop\":\n",
    "        index += 1\n",
    "    elif instruction == \"acc\":\n",
    "        accumulator += value\n",
    "        index += 1\n",
    "    elif instruction == \"jmp\":\n",
    "        index += value"
   ]
  },
  {
   "source": [
    "## Part 2"
   ],
   "cell_type": "markdown",
   "metadata": {}
  },
  {
   "cell_type": "code",
   "execution_count": 3,
   "metadata": {},
   "outputs": [
    {
     "output_type": "stream",
     "name": "stdout",
     "text": [
      "892\nCPU times: user 39.6 ms, sys: 1.78 ms, total: 41.4 ms\nWall time: 41.6 ms\n"
     ]
    }
   ],
   "source": [
    "%%time\n",
    "\n",
    "def try_program(program):\n",
    "    index = 0\n",
    "    accumulator = 0\n",
    "    executed_instructions = set()\n",
    "\n",
    "    while True:\n",
    "        if index in executed_instructions:\n",
    "            return False, 0\n",
    "        elif index >= len(program):\n",
    "            return True, accumulator\n",
    "\n",
    "        executed_instructions.add(index)\n",
    "\n",
    "        instruction, value = program[index].split()\n",
    "        value = int(value)\n",
    "\n",
    "        if instruction == \"nop\":\n",
    "            index += 1\n",
    "        elif instruction == \"acc\":\n",
    "            accumulator += value\n",
    "            index += 1\n",
    "        elif instruction == \"jmp\":\n",
    "            index += value\n",
    "\n",
    "for i in range(len(puzzle)):\n",
    "    if \"nop\" in puzzle[i]:\n",
    "        puzzle[i] = puzzle[i].replace(\"nop\", \"jmp\")\n",
    "    elif \"jmp\" in puzzle[i]:\n",
    "        puzzle[i] = puzzle[i].replace(\"jmp\", \"nop\")\n",
    "\n",
    "    terminated, value = try_program(puzzle)\n",
    "\n",
    "    if terminated:\n",
    "        print(value)\n",
    "        break\n",
    "\n",
    "    if \"nop\" in puzzle[i]:\n",
    "        puzzle[i] = puzzle[i].replace(\"nop\", \"jmp\")\n",
    "    elif \"jmp\" in puzzle[i]:\n",
    "        puzzle[i] = puzzle[i].replace(\"jmp\", \"nop\")"
   ]
  }
 ]
}