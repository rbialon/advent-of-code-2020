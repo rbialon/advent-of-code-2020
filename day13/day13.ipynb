{
 "metadata": {
  "language_info": {
   "codemirror_mode": {
    "name": "ipython",
    "version": 3
   },
   "file_extension": ".py",
   "mimetype": "text/x-python",
   "name": "python",
   "nbconvert_exporter": "python",
   "pygments_lexer": "ipython3",
   "version": "3.9.0-final"
  },
  "orig_nbformat": 2,
  "kernelspec": {
   "name": "python3",
   "display_name": "Python 3"
  }
 },
 "nbformat": 4,
 "nbformat_minor": 2,
 "cells": [
  {
   "cell_type": "code",
   "execution_count": 32,
   "metadata": {},
   "outputs": [],
   "source": [
    "with open(\"input.txt\") as f:\n",
    "    earliest_timestamp, bus_ids = f.read().split(\"\\n\")\n",
    "    earliest_timestamp = int(earliest_timestamp)\n",
    "    bus_ids = bus_ids.split(\",\")"
   ]
  },
  {
   "source": [
    "## Part 1"
   ],
   "cell_type": "markdown",
   "metadata": {}
  },
  {
   "cell_type": "code",
   "execution_count": 8,
   "metadata": {},
   "outputs": [
    {
     "output_type": "stream",
     "name": "stdout",
     "text": [
      "3269\nCPU times: user 212 µs, sys: 962 µs, total: 1.17 ms\nWall time: 1.12 ms\n"
     ]
    }
   ],
   "source": [
    "%%time\n",
    "\n",
    "from math import ceil\n",
    "\n",
    "valid_bus_ids = map(int, filter(lambda bus_id: bus_id != \"x\", bus_ids))\n",
    "earliest_bus_id = min(valid_bus_ids, key=lambda bus_id: ceil(earliest_timestamp / bus_id) * bus_id)\n",
    "\n",
    "print(earliest_bus_id * (ceil(earliest_timestamp / earliest_bus_id) * earliest_bus_id -  earliest_timestamp))"
   ]
  },
  {
   "source": [
    "## Part 2"
   ],
   "cell_type": "markdown",
   "metadata": {}
  },
  {
   "cell_type": "code",
   "execution_count": 40,
   "metadata": {},
   "outputs": [
    {
     "output_type": "stream",
     "name": "stdout",
     "text": [
      "True\n672754131923874\nCPU times: user 1.1 ms, sys: 0 ns, total: 1.1 ms\nWall time: 1.02 ms\n"
     ]
    }
   ],
   "source": [
    "%%time\n",
    "\n",
    "def is_valid_earliest_timestamp(timestamp, bus_ids):\n",
    "    for offset, bus_id in enumerate(bus_ids):\n",
    "        if bus_id == \"x\":\n",
    "            continue\n",
    "\n",
    "        if (timestamp + offset) % int(bus_id) != 0:\n",
    "            return False\n",
    "    \n",
    "    return True\n",
    "\n",
    "valid_bus_ids = list(map(lambda x: (x[0], int(x[1])), filter(lambda x: x[1] != \"x\", enumerate(bus_ids))))\n",
    "offset = valid_bus_ids[0][0]\n",
    "period = valid_bus_ids[0][1]\n",
    "\n",
    "for bus_offset, bus_id in valid_bus_ids[1:]:\n",
    "    while (offset + bus_offset) % bus_id != 0:\n",
    "        offset += period\n",
    "\n",
    "    period *= bus_id\n",
    "\n",
    "print(is_valid_earliest_timestamp(offset, bus_ids))\n",
    "print(offset)"
   ]
  }
 ]
}