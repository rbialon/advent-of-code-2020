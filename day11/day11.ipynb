{
 "metadata": {
  "language_info": {
   "codemirror_mode": {
    "name": "ipython",
    "version": 3
   },
   "file_extension": ".py",
   "mimetype": "text/x-python",
   "name": "python",
   "nbconvert_exporter": "python",
   "pygments_lexer": "ipython3",
   "version": "3.9.0-final"
  },
  "orig_nbformat": 2,
  "kernelspec": {
   "name": "python3",
   "display_name": "Python 3"
  }
 },
 "nbformat": 4,
 "nbformat_minor": 2,
 "cells": [
  {
   "cell_type": "code",
   "execution_count": 29,
   "metadata": {},
   "outputs": [],
   "source": [
    "EMPTY = \"L\"\n",
    "OCCUPIED = \"#\"\n",
    "FLOOR = \".\"\n",
    "\n",
    "puzzle = {}\n",
    "\n",
    "with open(\"input.txt\") as f:\n",
    "    for y, line in enumerate(f.read().split(\"\\n\")):\n",
    "        for x, char in enumerate(line):\n",
    "            puzzle[(x, y)] = char"
   ]
  },
  {
   "source": [
    "## Part 1"
   ],
   "cell_type": "markdown",
   "metadata": {}
  },
  {
   "cell_type": "code",
   "execution_count": 23,
   "metadata": {
    "tags": []
   },
   "outputs": [
    {
     "output_type": "stream",
     "name": "stdout",
     "text": [
      "2204\nCPU times: user 2 s, sys: 520 µs, total: 2 s\nWall time: 2.01 s\n"
     ]
    }
   ],
   "source": [
    "%%time\n",
    "\n",
    "def count_occupied_adjacent_seats(game, position: tuple[int]):\n",
    "    count = 0\n",
    "\n",
    "    for move in [(-1, -1), (0, -1), (1, -1), (-1, 0), (1, 0), (-1, 1), (0, 1), (1, 1)]:\n",
    "        adjacent_position = (position[0] + move[0], position[1] + move[1])\n",
    "\n",
    "        if adjacent_position in game and game[adjacent_position] == OCCUPIED:\n",
    "            count += 1\n",
    "\n",
    "    return count\n",
    "\n",
    "def play_round(game):\n",
    "    changes = {}\n",
    "    has_changed = False\n",
    "\n",
    "    for position, state in game.items():\n",
    "        occupied_adjacent_seats = count_occupied_adjacent_seats(game, position)\n",
    "\n",
    "        if state == EMPTY and occupied_adjacent_seats == 0:\n",
    "            changes[position] = OCCUPIED\n",
    "            has_changed = True\n",
    "        elif state == OCCUPIED and occupied_adjacent_seats >= 4:\n",
    "            changes[position] = EMPTY\n",
    "            has_changed = True\n",
    "        else:\n",
    "            changes[position] = state\n",
    "\n",
    "    return has_changed, changes\n",
    "\n",
    "game = puzzle\n",
    "while True:\n",
    "    has_changed, game = play_round(game)\n",
    "\n",
    "    if not has_changed:\n",
    "        print(list(game.values()).count(OCCUPIED))\n",
    "        break"
   ]
  },
  {
   "cell_type": "code",
   "execution_count": 31,
   "metadata": {},
   "outputs": [
    {
     "output_type": "stream",
     "name": "stdout",
     "text": [
      "1986\nCPU times: user 2.9 s, sys: 5.54 ms, total: 2.91 s\nWall time: 2.96 s\n"
     ]
    }
   ],
   "source": [
    "%%time\n",
    "\n",
    "def count_visible_occupied_adjacent_seats(game, position: tuple[int]):\n",
    "    count = 0\n",
    "\n",
    "    for move in [(-1, -1), (0, -1), (1, -1), (-1, 0), (1, 0), (-1, 1), (0, 1), (1, 1)]:\n",
    "        adjacent_position = position\n",
    "        while (adjacent_position := (adjacent_position[0] + move[0], adjacent_position[1] + move[1])) in game:\n",
    "            if game[adjacent_position] == OCCUPIED:\n",
    "                count += 1\n",
    "                break\n",
    "            elif game[adjacent_position] == EMPTY:\n",
    "                break\n",
    "\n",
    "    return count\n",
    "\n",
    "def play_visibility_round(game):\n",
    "    changes = {}\n",
    "    has_changed = False\n",
    "\n",
    "    for position, state in game.items():\n",
    "        visible_occupied_adjacent_seats = count_visible_occupied_adjacent_seats(game, position)\n",
    "\n",
    "        if state == EMPTY and visible_occupied_adjacent_seats == 0:\n",
    "            changes[position] = OCCUPIED\n",
    "            has_changed = True\n",
    "        elif state == OCCUPIED and visible_occupied_adjacent_seats >= 5:\n",
    "            changes[position] = EMPTY\n",
    "            has_changed = True\n",
    "        else:\n",
    "            changes[position] = state\n",
    "\n",
    "    return has_changed, changes\n",
    "\n",
    "game = puzzle\n",
    "while True:\n",
    "    has_changed, game = play_visibility_round(game)\n",
    "\n",
    "    if not has_changed:\n",
    "        print(list(game.values()).count(OCCUPIED))\n",
    "        break\n"
   ]
  }
 ]
}