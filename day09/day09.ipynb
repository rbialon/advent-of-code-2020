{
 "metadata": {
  "language_info": {
   "codemirror_mode": {
    "name": "ipython",
    "version": 3
   },
   "file_extension": ".py",
   "mimetype": "text/x-python",
   "name": "python",
   "nbconvert_exporter": "python",
   "pygments_lexer": "ipython3",
   "version": "3.9.0-final"
  },
  "orig_nbformat": 2,
  "kernelspec": {
   "name": "python38364bit1d21e1e483f6453bb01c942d6cd47059",
   "display_name": "Python 3.8.3 64-bit"
  }
 },
 "nbformat": 4,
 "nbformat_minor": 2,
 "cells": [
  {
   "cell_type": "code",
   "execution_count": 1,
   "metadata": {},
   "outputs": [],
   "source": [
    "with open(\"input.txt\") as f:\n",
    "    puzzle = list(map(int, f.read().split()))"
   ]
  },
  {
   "source": [
    "## Part 1"
   ],
   "cell_type": "markdown",
   "metadata": {}
  },
  {
   "cell_type": "code",
   "execution_count": 2,
   "metadata": {
    "tags": []
   },
   "outputs": [
    {
     "output_type": "stream",
     "name": "stdout",
     "text": [
      "373803594\nCPU times: user 4.3 ms, sys: 0 ns, total: 4.3 ms\nWall time: 8.23 ms\n"
     ]
    }
   ],
   "source": [
    "%%time\n",
    "\n",
    "def is_valid_xmas(preamble, xmas_number):\n",
    "    for number in preamble:\n",
    "        if (xmas_number - number) in preamble:\n",
    "            if xmas_number == 2 * number and preamble.count(number) == 1:\n",
    "                continue\n",
    "            \n",
    "            return True\n",
    "    return False\n",
    "\n",
    "for i in range(25, len(puzzle)):\n",
    "    if not is_valid_xmas(puzzle[i - 25:i], puzzle[i]):\n",
    "        invalid_number = puzzle[i]\n",
    "        print(invalid_number)\n",
    "        break"
   ]
  },
  {
   "source": [
    "## Part 2"
   ],
   "cell_type": "markdown",
   "metadata": {}
  },
  {
   "cell_type": "code",
   "execution_count": 3,
   "metadata": {},
   "outputs": [
    {
     "output_type": "stream",
     "name": "stdout",
     "text": [
      "51152360\nCPU times: user 42.6 ms, sys: 1.73 ms, total: 44.3 ms\nWall time: 48.8 ms\n"
     ]
    }
   ],
   "source": [
    "%%time\n",
    "\n",
    "for i in range(len(puzzle) - 1):\n",
    "    result = 0\n",
    "\n",
    "    for j in range(i, len(puzzle)):\n",
    "        result += puzzle[j]\n",
    "\n",
    "        if result == invalid_number and i != j:\n",
    "            contiguous_range = puzzle[i:j + 1]\n",
    "            print(min(contiguous_range) + max(contiguous_range))\n",
    "        elif result > invalid_number:\n",
    "            break"
   ]
  }
 ]
}