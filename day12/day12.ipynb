{
 "metadata": {
  "language_info": {
   "codemirror_mode": {
    "name": "ipython",
    "version": 3
   },
   "file_extension": ".py",
   "mimetype": "text/x-python",
   "name": "python",
   "nbconvert_exporter": "python",
   "pygments_lexer": "ipython3",
   "version": "3.9.0-final"
  },
  "orig_nbformat": 2,
  "kernelspec": {
   "name": "python3",
   "display_name": "Python 3"
  }
 },
 "nbformat": 4,
 "nbformat_minor": 2,
 "cells": [
  {
   "cell_type": "code",
   "execution_count": 1,
   "metadata": {},
   "outputs": [],
   "source": [
    "with open(\"input.txt\") as f:\n",
    "    puzzle = f.read().split(\"\\n\")"
   ]
  },
  {
   "source": [
    "## Part 1"
   ],
   "cell_type": "markdown",
   "metadata": {}
  },
  {
   "cell_type": "code",
   "execution_count": 2,
   "metadata": {},
   "outputs": [
    {
     "output_type": "stream",
     "name": "stdout",
     "text": [
      "796\nCPU times: user 3.72 ms, sys: 0 ns, total: 3.72 ms\nWall time: 4.36 ms\n"
     ]
    }
   ],
   "source": [
    "%%time\n",
    "\n",
    "NORTH = \"north\"\n",
    "EAST = \"east\"\n",
    "SOUTH = \"south\"\n",
    "WEST = \"west\"\n",
    "\n",
    "DIRECTIONS = [NORTH, EAST, SOUTH, WEST]\n",
    "\n",
    "ACTION_DIRECTIONS = {\n",
    "    \"N\": NORTH,\n",
    "    \"E\": EAST,\n",
    "    \"S\": SOUTH,\n",
    "    \"W\": WEST\n",
    "}\n",
    "\n",
    "\n",
    "def turn(heading, turn_direction, turn_degree):\n",
    "    shift = turn_degree // 90\n",
    "\n",
    "    index = DIRECTIONS.index(heading)\n",
    "    sign = -1 if turn_direction == \"L\" else 1\n",
    "    index = (index + (sign * shift)) % len(DIRECTIONS)\n",
    "\n",
    "    return DIRECTIONS[index]\n",
    "\n",
    "\n",
    "def move(position, direction, distance):\n",
    "    sign = -1 if direction in (SOUTH, WEST) else 1\n",
    "    index = 0 if direction in (NORTH, SOUTH) else 1\n",
    "\n",
    "    position[index] += sign * distance\n",
    "\n",
    "    return position\n",
    "\n",
    "\n",
    "# +North/-South, +East/-West\n",
    "position = [0, 0]\n",
    "heading = EAST\n",
    "\n",
    "for line in puzzle:\n",
    "    action = line[0]\n",
    "    value = int(line[1:])\n",
    "\n",
    "    if action in (\"L\", \"R\"):\n",
    "        heading = turn(heading, action, value)\n",
    "        continue\n",
    "    elif action == \"F\":\n",
    "        direction = heading\n",
    "    else:\n",
    "        direction = ACTION_DIRECTIONS[action]\n",
    "\n",
    "    position = move(position, direction, value)\n",
    "\n",
    "print(sum(map(abs, position)))"
   ]
  },
  {
   "source": [
    "## Part 2"
   ],
   "cell_type": "markdown",
   "metadata": {}
  },
  {
   "cell_type": "code",
   "execution_count": 3,
   "metadata": {},
   "outputs": [
    {
     "output_type": "stream",
     "name": "stdout",
     "text": [
      "39446\nCPU times: user 4.65 ms, sys: 913 µs, total: 5.56 ms\nWall time: 5.85 ms\n"
     ]
    }
   ],
   "source": [
    "%%time\n",
    "\n",
    "def turn_waypoint(waypoint, turn_direction, turn_degree):\n",
    "    number_turns = turn_degree // 90\n",
    "    signs = (-1, 1) if turn_direction == \"R\" else (1, -1)\n",
    "\n",
    "    for _ in range(number_turns):\n",
    "        waypoint = [signs[0] * waypoint[1], signs[1] * waypoint[0]]\n",
    "\n",
    "    return waypoint\n",
    "\n",
    "\n",
    "def move_waypoint(waypoint, direction, distance):\n",
    "    sign = -1 if direction in (SOUTH, WEST) else 1\n",
    "    index = 0 if direction in (NORTH, SOUTH) else 1\n",
    "    waypoint[index] += sign * distance\n",
    "\n",
    "    return waypoint\n",
    "\n",
    "\n",
    "def move_ship(position, waypoint, amount):\n",
    "    for _ in range(amount):\n",
    "        position[0] += waypoint[0]\n",
    "        position[1] += waypoint[1]\n",
    "\n",
    "    return position\n",
    "\n",
    "\n",
    "# +North/-South, +East/-West\n",
    "waypoint = [1, 10]\n",
    "position = [0, 0]\n",
    "\n",
    "for line in puzzle:\n",
    "    action = line[0]\n",
    "    value = int(line[1:])\n",
    "\n",
    "    if action in (\"L\", \"R\"):\n",
    "        waypoint = turn_waypoint(waypoint, action, value)\n",
    "    elif action == \"F\":\n",
    "        position = move_ship(position, waypoint, value)\n",
    "    else:\n",
    "        waypoint = move_waypoint(waypoint, ACTION_DIRECTIONS[action], value)\n",
    "\n",
    "print(sum(map(abs, position)))"
   ]
  }
 ]
}