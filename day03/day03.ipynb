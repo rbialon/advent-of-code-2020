{
 "metadata": {
  "language_info": {
   "codemirror_mode": {
    "name": "ipython",
    "version": 3
   },
   "file_extension": ".py",
   "mimetype": "text/x-python",
   "name": "python",
   "nbconvert_exporter": "python",
   "pygments_lexer": "ipython3",
   "version": "3.9.0-final"
  },
  "orig_nbformat": 2,
  "kernelspec": {
   "name": "python3",
   "display_name": "Python 3"
  }
 },
 "nbformat": 4,
 "nbformat_minor": 2,
 "cells": [
  {
   "cell_type": "code",
   "execution_count": 1,
   "metadata": {},
   "outputs": [],
   "source": [
    "with open(\"input.txt\") as f:\n",
    "    puzzle = f.read().split()"
   ]
  },
  {
   "source": [
    "## Part 1"
   ],
   "cell_type": "markdown",
   "metadata": {}
  },
  {
   "cell_type": "code",
   "execution_count": 2,
   "metadata": {
    "tags": []
   },
   "outputs": [
    {
     "output_type": "stream",
     "name": "stdout",
     "text": [
      "218\nCPU times: user 6.97 ms, sys: 117 µs, total: 7.09 ms\nWall time: 16.3 ms\n"
     ]
    }
   ],
   "source": [
    "%%time\n",
    "\n",
    "puzzle_map = {}\n",
    "\n",
    "for y, line in enumerate(puzzle):\n",
    "    for x, char in enumerate(line):\n",
    "        puzzle_map[(x, y)] = char\n",
    "\n",
    "slope = (3, 1)\n",
    "position = (0, 0)\n",
    "trees_count = 0\n",
    "line_length = len(puzzle[0])\n",
    "\n",
    "while position[1] + slope[1] < len(puzzle):\n",
    "    position = ((position[0] + slope[0]) % line_length, position[1] + slope[1])\n",
    "\n",
    "    if puzzle_map[position] == \"#\":\n",
    "        trees_count += 1\n",
    "\n",
    "print(trees_count)"
   ]
  },
  {
   "source": [
    "## Part 2"
   ],
   "cell_type": "markdown",
   "metadata": {}
  },
  {
   "cell_type": "code",
   "execution_count": 3,
   "metadata": {},
   "outputs": [
    {
     "output_type": "stream",
     "name": "stdout",
     "text": [
      "3847183340\nCPU times: user 1.66 ms, sys: 0 ns, total: 1.66 ms\nWall time: 1.66 ms\n"
     ]
    }
   ],
   "source": [
    "%%time\n",
    "\n",
    "def count_trees_on_slope(slope):\n",
    "    position = (0, 0)\n",
    "    trees_count = 0\n",
    "    line_length = len(puzzle[0])\n",
    "\n",
    "    while position[1] + slope[1] < len(puzzle):\n",
    "        position = ((position[0] + slope[0]) % line_length, position[1] + slope[1])\n",
    "\n",
    "        if puzzle_map[position] == \"#\":\n",
    "            trees_count += 1\n",
    "    \n",
    "    return trees_count\n",
    "\n",
    "result = 1\n",
    "for slope in [(1, 1), (3, 1), (5, 1), (7, 1), (1, 2)]:\n",
    "    result *= count_trees_on_slope(slope)\n",
    "\n",
    "print(result)"
   ]
  }
 ]
}