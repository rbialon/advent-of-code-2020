{
 "metadata": {
  "language_info": {
   "codemirror_mode": {
    "name": "ipython",
    "version": 3
   },
   "file_extension": ".py",
   "mimetype": "text/x-python",
   "name": "python",
   "nbconvert_exporter": "python",
   "pygments_lexer": "ipython3",
   "version": "3.9.0-final"
  },
  "orig_nbformat": 2,
  "kernelspec": {
   "name": "python3",
   "display_name": "Python 3"
  }
 },
 "nbformat": 4,
 "nbformat_minor": 2,
 "cells": [
  {
   "cell_type": "code",
   "execution_count": 1,
   "metadata": {},
   "outputs": [],
   "source": [
    "with open(\"input.txt\") as f:\n",
    "    puzzle = list(map(int, f.read().split(\"\\n\")))"
   ]
  },
  {
   "source": [
    "## Part 1"
   ],
   "cell_type": "markdown",
   "metadata": {}
  },
  {
   "cell_type": "code",
   "execution_count": 2,
   "metadata": {},
   "outputs": [
    {
     "output_type": "stream",
     "name": "stdout",
     "text": [
      "1690\nCPU times: user 328 µs, sys: 0 ns, total: 328 µs\nWall time: 270 µs\n"
     ]
    }
   ],
   "source": [
    "%%time\n",
    "\n",
    "adapters = sorted(puzzle)\n",
    "\n",
    "differences = [adapters[0]] + [x - y for x, y in zip(adapters[1:], adapters[:-1])] + [3]\n",
    "\n",
    "print(differences.count(1) * differences.count(3))"
   ]
  },
  {
   "source": [
    "## Part 2"
   ],
   "cell_type": "markdown",
   "metadata": {}
  },
  {
   "cell_type": "code",
   "execution_count": 3,
   "metadata": {},
   "outputs": [
    {
     "output_type": "stream",
     "name": "stdout",
     "text": [
      "5289227976704\nCPU times: user 894 µs, sys: 1.01 ms, total: 1.9 ms\nWall time: 1.82 ms\n"
     ]
    }
   ],
   "source": [
    "%%time\n",
    "\n",
    "from collections import defaultdict\n",
    "\n",
    "combinations = defaultdict(int)\n",
    "combinations[0] = 1\n",
    "\n",
    "for joltage in adapters:\n",
    "    combinations[joltage] = combinations[joltage - 3] + combinations[joltage - 2] + combinations[joltage - 1]\n",
    "\n",
    "print(combinations[max(adapters)])"
   ]
  }
 ]
}