{
 "metadata": {
  "language_info": {
   "codemirror_mode": {
    "name": "ipython",
    "version": 3
   },
   "file_extension": ".py",
   "mimetype": "text/x-python",
   "name": "python",
   "nbconvert_exporter": "python",
   "pygments_lexer": "ipython3",
   "version": "3.8.6-final"
  },
  "orig_nbformat": 2,
  "kernelspec": {
   "name": "python3",
   "display_name": "Python 3"
  }
 },
 "nbformat": 4,
 "nbformat_minor": 2,
 "cells": [
  {
   "cell_type": "code",
   "execution_count": 1,
   "metadata": {},
   "outputs": [],
   "source": [
    "with open(\"input.txt\") as f:\n",
    "  input = list(map(int, f.readlines()))"
   ]
  },
  {
   "source": [
    "## Part 1"
   ],
   "cell_type": "markdown",
   "metadata": {}
  },
  {
   "cell_type": "code",
   "execution_count": 2,
   "metadata": {},
   "outputs": [
    {
     "output_type": "stream",
     "name": "stdout",
     "text": [
      "Found 1402 and 618, result: 866436\nCPU times: user 0 ns, sys: 2.11 ms, total: 2.11 ms\nWall time: 2.65 ms\n"
     ]
    }
   ],
   "source": [
    "%%time\n",
    "\n",
    "sorted_input = sorted(input)\n",
    "found = False\n",
    "\n",
    "for x in sorted(input, reverse=True):\n",
    "  for y in sorted_input:\n",
    "    if x == y:\n",
    "      continue\n",
    "\n",
    "    elif x + y == 2020:\n",
    "      print(f\"Found {x} and {y}, result: {x * y}\")\n",
    "      found = True\n",
    "    \n",
    "    elif x + y > 2020:\n",
    "      break\n",
    "\n",
    "  if found:\n",
    "    break"
   ]
  },
  {
   "source": [
    "## Part 2"
   ],
   "cell_type": "markdown",
   "metadata": {}
  },
  {
   "cell_type": "code",
   "execution_count": 3,
   "metadata": {},
   "outputs": [
    {
     "output_type": "stream",
     "name": "stdout",
     "text": [
      "CPU times: user 188 µs, sys: 0 ns, total: 188 µs\nWall time: 193 µs\n"
     ]
    }
   ],
   "source": [
    "%%time\n",
    "\n",
    "found = False\n",
    "\n",
    "sorted_input_reversed = reversed(sorted_input)\n",
    "\n",
    "for x in sorted_input_reversed:\n",
    "  for y in sorted_input_reversed:\n",
    "    for z in sorted_input:\n",
    "      if x == y or x == z or y == z:\n",
    "        continue\n",
    "\n",
    "      elif x + y + z == 2020:\n",
    "        print(f\"Found {x}, {y} and {z}, result: {x * y * z}\")\n",
    "        found = True\n",
    "      \n",
    "      elif x + y + z > 2020:\n",
    "        break\n",
    "\n",
    "    if found:\n",
    "      break\n",
    "\n",
    "  if found:\n",
    "    break"
   ]
  }
 ]
}