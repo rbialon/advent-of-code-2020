{
 "metadata": {
  "language_info": {
   "codemirror_mode": {
    "name": "ipython",
    "version": 3
   },
   "file_extension": ".py",
   "mimetype": "text/x-python",
   "name": "python",
   "nbconvert_exporter": "python",
   "pygments_lexer": "ipython3",
   "version": "3.9.0-final"
  },
  "orig_nbformat": 2,
  "kernelspec": {
   "name": "python3",
   "display_name": "Python 3"
  }
 },
 "nbformat": 4,
 "nbformat_minor": 2,
 "cells": [
  {
   "cell_type": "code",
   "execution_count": 1,
   "metadata": {},
   "outputs": [],
   "source": [
    "with open(\"input.txt\") as f:\n",
    "    puzzle = f.read().split(\"\\n\\n\")"
   ]
  },
  {
   "source": [
    "## Part 1"
   ],
   "cell_type": "markdown",
   "metadata": {}
  },
  {
   "cell_type": "code",
   "execution_count": 2,
   "metadata": {},
   "outputs": [
    {
     "output_type": "stream",
     "name": "stdout",
     "text": [
      "206\nCPU times: user 2.28 ms, sys: 0 ns, total: 2.28 ms\nWall time: 1.92 ms\n"
     ]
    }
   ],
   "source": [
    "%%time\n",
    "\n",
    "required_fields = [\"byr\", \"iyr\", \"eyr\", \"hgt\", \"hcl\", \"ecl\", \"pid\"]\n",
    "\n",
    "def is_valid_passport(passport):\n",
    "    return all(map(lambda x: f\"{x}:\" in passport, required_fields))\n",
    "\n",
    "print(sum(map(is_valid_passport, puzzle)))"
   ]
  },
  {
   "source": [
    "## Part 2"
   ],
   "cell_type": "markdown",
   "metadata": {}
  },
  {
   "cell_type": "code",
   "execution_count": 3,
   "metadata": {
    "tags": []
   },
   "outputs": [
    {
     "output_type": "stream",
     "name": "stdout",
     "text": [
      "123\nCPU times: user 6.62 ms, sys: 824 µs, total: 7.44 ms\nWall time: 10.9 ms\n"
     ]
    }
   ],
   "source": [
    "%%time\n",
    "\n",
    "passports = []\n",
    "for entry in puzzle:\n",
    "    passport = {}\n",
    "    for data in entry.split():\n",
    "        field, value = data.split(\":\")\n",
    "        passport[field] = value\n",
    "\n",
    "    passports.append(passport)\n",
    "\n",
    "def are_fields_valid(passport):\n",
    "    return all(field in passport for field in required_fields)\\\n",
    "            and (passport[\"byr\"].isnumeric() and 1920 <= int(passport[\"byr\"]) <= 2002)\\\n",
    "            and (passport[\"iyr\"].isnumeric() and 2010 <= int(passport[\"iyr\"]) <= 2020)\\\n",
    "            and (passport[\"eyr\"].isnumeric() and 2020 <= int(passport[\"eyr\"]) <= 2030)\\\n",
    "            and any([\n",
    "                passport[\"hgt\"][-2:] == \"cm\" and passport[\"hgt\"][:-2].isnumeric() and 150 <= int(passport[\"hgt\"][:-2]) <= 193,\n",
    "                passport[\"hgt\"][-2:] == \"in\" and passport[\"hgt\"][:-2].isnumeric() and 59 <= int(passport[\"hgt\"][:-2]) <= 76\n",
    "            ])\\\n",
    "            and (len(passport[\"hcl\"]) == 7 and passport[\"hcl\"][0] == \"#\" and all(c in \"0123456789abcdef\" for c in passport[\"hcl\"][1:]))\\\n",
    "            and (passport[\"ecl\"] in (\"amb\", \"blu\", \"brn\", \"gry\", \"grn\", \"hzl\", \"oth\"))\\\n",
    "            and (len(passport[\"pid\"]) == 9 and passport[\"pid\"].isnumeric())\n",
    "\n",
    "print(sum(map(are_fields_valid, passports)))"
   ]
  }
 ]
}