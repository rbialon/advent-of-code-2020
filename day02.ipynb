{
 "metadata": {
  "language_info": {
   "codemirror_mode": {
    "name": "ipython",
    "version": 3
   },
   "file_extension": ".py",
   "mimetype": "text/x-python",
   "name": "python",
   "nbconvert_exporter": "python",
   "pygments_lexer": "ipython3",
   "version": "3.9.0-final"
  },
  "orig_nbformat": 2,
  "kernelspec": {
   "name": "python3",
   "display_name": "Python 3"
  }
 },
 "nbformat": 4,
 "nbformat_minor": 2,
 "cells": [
  {
   "cell_type": "code",
   "execution_count": 1,
   "metadata": {},
   "outputs": [],
   "source": [
    "with open(\"input.txt\") as f:\n",
    "    input = f.readlines()"
   ]
  },
  {
   "source": [
    "## Part 1"
   ],
   "cell_type": "markdown",
   "metadata": {}
  },
  {
   "cell_type": "code",
   "execution_count": 2,
   "metadata": {},
   "outputs": [
    {
     "output_type": "stream",
     "name": "stdout",
     "text": [
      "460\nCPU times: user 2.67 ms, sys: 21 µs, total: 2.69 ms\nWall time: 3.47 ms\n"
     ]
    }
   ],
   "source": [
    "%%time\n",
    "\n",
    "def is_valid_password(char: str, min_occurences: int, max_occurences: int, password: str):\n",
    "    return min_occurences <= password.count(char) <= max_occurences\n",
    "\n",
    "def check_policy_line(line):\n",
    "    policy, password = line.split(\": \")\n",
    "    occurences, char = policy.split()\n",
    "    min_occurences, max_occurences = map(int, occurences.split(\"-\"))\n",
    "\n",
    "    return is_valid_password(char, min_occurences, max_occurences, password)\n",
    "\n",
    "print(sum(map(check_policy_line, input)))"
   ]
  },
  {
   "source": [
    "## Part 2"
   ],
   "cell_type": "markdown",
   "metadata": {}
  },
  {
   "cell_type": "code",
   "execution_count": 3,
   "metadata": {},
   "outputs": [
    {
     "output_type": "stream",
     "name": "stdout",
     "text": [
      "251\nCPU times: user 2.33 ms, sys: 979 µs, total: 3.31 ms\nWall time: 5.46 ms\n"
     ]
    }
   ],
   "source": [
    "%%time\n",
    "\n",
    "def check_policy_line(line):\n",
    "    policy, password = line.split(\": \")\n",
    "    occurences, char = policy.split()\n",
    "    first_position, second_position = map(int, occurences.split(\"-\"))\n",
    "\n",
    "    return (password[first_position-1] == char) != (password[second_position-1] == char)\n",
    "\n",
    "print(sum(map(check_policy_line, input)))"
   ]
  }
 ]
}