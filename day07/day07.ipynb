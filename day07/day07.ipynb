{
 "metadata": {
  "language_info": {
   "codemirror_mode": {
    "name": "ipython",
    "version": 3
   },
   "file_extension": ".py",
   "mimetype": "text/x-python",
   "name": "python",
   "nbconvert_exporter": "python",
   "pygments_lexer": "ipython3",
   "version": "3.9.0-final"
  },
  "orig_nbformat": 2,
  "kernelspec": {
   "name": "python3",
   "display_name": "Python 3"
  }
 },
 "nbformat": 4,
 "nbformat_minor": 2,
 "cells": [
  {
   "cell_type": "code",
   "execution_count": 1,
   "metadata": {},
   "outputs": [],
   "source": [
    "with open(\"input.txt\") as f:\n",
    "    puzzle = f.read().split(\"\\n\")"
   ]
  },
  {
   "source": [
    "## Part 1"
   ],
   "cell_type": "markdown",
   "metadata": {}
  },
  {
   "cell_type": "code",
   "execution_count": 2,
   "metadata": {
    "tags": []
   },
   "outputs": [
    {
     "output_type": "stream",
     "name": "stdout",
     "text": [
      "332\nCPU times: user 99.2 ms, sys: 335 µs, total: 99.5 ms\nWall time: 106 ms\n"
     ]
    }
   ],
   "source": [
    "%%time\n",
    "\n",
    "rules = {}\n",
    "\n",
    "for line in puzzle:\n",
    "    line = line.replace(\" bags\", \"\").replace(\" bag\", \"\").replace(\".\", \"\")\n",
    "    key, content = line.split(\" contain \")\n",
    "\n",
    "    inner_bags = []\n",
    "    for description in content.split(\", \"):\n",
    "        if description == \"no other\":\n",
    "            break\n",
    "        \n",
    "        description = description.split()\n",
    "        amount = int(description[0])\n",
    "        description = \" \".join(description[1:])\n",
    "        inner_bags.append({\"color\": description, \"amount\": amount})\n",
    "    \n",
    "    rules[key] = inner_bags\n",
    "    \n",
    "check_bags = set((\"shiny gold\", ))\n",
    "holdable_bags = set()\n",
    "\n",
    "while check_bags:\n",
    "    bag = check_bags.pop()\n",
    "    holdable_bags.add(bag)\n",
    "\n",
    "    for key in rules.keys():\n",
    "        if key in holdable_bags or key in check_bags:\n",
    "            continue\n",
    "\n",
    "        for entry in rules[key]:\n",
    "            if entry[\"color\"] == bag:\n",
    "                check_bags.add(key)\n",
    "\n",
    "# - 1 because our shiny gold bag is also in this set\n",
    "print(len(holdable_bags) - 1)"
   ]
  },
  {
   "source": [
    "## Part 2"
   ],
   "cell_type": "markdown",
   "metadata": {}
  },
  {
   "cell_type": "code",
   "execution_count": 3,
   "metadata": {},
   "outputs": [
    {
     "output_type": "stream",
     "name": "stdout",
     "text": [
      "10875\nCPU times: user 1.64 ms, sys: 0 ns, total: 1.64 ms\nWall time: 1.41 ms\n"
     ]
    }
   ],
   "source": [
    "%%time \n",
    "def get_inside_bags_amount(bag):\n",
    "    result = 0\n",
    "\n",
    "    for inner_bag in rules[bag]:\n",
    "        color = inner_bag[\"color\"]\n",
    "        amount = inner_bag[\"amount\"]\n",
    "\n",
    "        result += amount * (get_inside_bags_amount(color) + 1)\n",
    "\n",
    "    return result\n",
    "\n",
    "print(get_inside_bags_amount(\"shiny gold\"))"
   ]
  }
 ]
}