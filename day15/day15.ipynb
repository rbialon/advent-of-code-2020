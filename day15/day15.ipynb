{
 "metadata": {
  "language_info": {
   "codemirror_mode": {
    "name": "ipython",
    "version": 3
   },
   "file_extension": ".py",
   "mimetype": "text/x-python",
   "name": "python",
   "nbconvert_exporter": "python",
   "pygments_lexer": "ipython3",
   "version": "3.9.0-final"
  },
  "orig_nbformat": 2,
  "kernelspec": {
   "name": "python3",
   "display_name": "Python 3"
  }
 },
 "nbformat": 4,
 "nbformat_minor": 2,
 "cells": [
  {
   "cell_type": "code",
   "execution_count": 1,
   "metadata": {},
   "outputs": [],
   "source": [
    "puzzle = [11,0,1,10,5,19]"
   ]
  },
  {
   "source": [
    "## Part 1"
   ],
   "cell_type": "markdown",
   "metadata": {}
  },
  {
   "cell_type": "code",
   "execution_count": 2,
   "metadata": {},
   "outputs": [
    {
     "output_type": "stream",
     "name": "stdout",
     "text": [
      "870\nCPU times: user 1.73 ms, sys: 0 ns, total: 1.73 ms\nWall time: 1.68 ms\n"
     ]
    }
   ],
   "source": [
    "%%time\n",
    "\n",
    "seen_numbers = {}\n",
    "turn = 1\n",
    "last_number = 0\n",
    "\n",
    "for start_number in puzzle:\n",
    "    seen_numbers[start_number] = [turn]\n",
    "    last_number = start_number\n",
    "    turn += 1\n",
    "\n",
    "while turn <= 2020:\n",
    "    if len(seen_numbers[last_number]) == 1:\n",
    "        seen_numbers[0].append(turn)\n",
    "        last_number = 0\n",
    "\n",
    "    else:\n",
    "        a, b = seen_numbers[last_number][-2:]\n",
    "        diff = b - a\n",
    "        \n",
    "        if diff in seen_numbers:\n",
    "            seen_numbers[diff].append(turn)\n",
    "        else:\n",
    "            seen_numbers[diff] = [turn]\n",
    "\n",
    "        last_number = diff\n",
    "\n",
    "    turn += 1\n",
    "\n",
    "print(last_number)"
   ]
  },
  {
   "source": [
    "## Part 2"
   ],
   "cell_type": "markdown",
   "metadata": {}
  },
  {
   "cell_type": "code",
   "execution_count": 3,
   "metadata": {},
   "outputs": [
    {
     "output_type": "stream",
     "name": "stdout",
     "text": [
      "9136\nCPU times: user 57 s, sys: 1.31 s, total: 58.3 s\nWall time: 1min\n"
     ]
    }
   ],
   "source": [
    "%%time\n",
    "\n",
    "while turn <= 30000000:\n",
    "    if len(seen_numbers[last_number]) == 1:\n",
    "        seen_numbers[0].append(turn)\n",
    "        last_number = 0\n",
    "\n",
    "    else:\n",
    "        a, b = seen_numbers[last_number][-2:]\n",
    "        diff = b - a\n",
    "        \n",
    "        if diff in seen_numbers:\n",
    "            seen_numbers[diff].append(turn)\n",
    "        else:\n",
    "            seen_numbers[diff] = [turn]\n",
    "\n",
    "        last_number = diff\n",
    "\n",
    "    turn += 1\n",
    "\n",
    "print(last_number)"
   ]
  }
 ]
}