{
 "metadata": {
  "language_info": {
   "codemirror_mode": {
    "name": "ipython",
    "version": 3
   },
   "file_extension": ".py",
   "mimetype": "text/x-python",
   "name": "python",
   "nbconvert_exporter": "python",
   "pygments_lexer": "ipython3",
   "version": "3.9.0-final"
  },
  "orig_nbformat": 2,
  "kernelspec": {
   "name": "python3",
   "display_name": "Python 3"
  }
 },
 "nbformat": 4,
 "nbformat_minor": 2,
 "cells": [
  {
   "cell_type": "code",
   "execution_count": 1,
   "metadata": {},
   "outputs": [],
   "source": [
    "with open(\"input.txt\") as f:\n",
    "    puzzle = f.read().split()"
   ]
  },
  {
   "source": [
    "## Part 1"
   ],
   "cell_type": "markdown",
   "metadata": {}
  },
  {
   "cell_type": "code",
   "execution_count": 2,
   "metadata": {},
   "outputs": [
    {
     "output_type": "stream",
     "name": "stdout",
     "text": [
      "835\nCPU times: user 4 ms, sys: 798 µs, total: 4.79 ms\nWall time: 4.31 ms\n"
     ]
    }
   ],
   "source": [
    "%%time\n",
    "\n",
    "def seat_id(seat):\n",
    "    seat = seat.replace(\"F\", \"0\").replace(\"B\", \"1\").replace(\"L\", \"0\").replace(\"R\", \"1\")\n",
    "\n",
    "    row = int(seat[:7], 2)\n",
    "    column = int(seat[7:], 2)\n",
    "\n",
    "    return row * 8 + column\n",
    "\n",
    "print(max(map(seat_id, puzzle)))"
   ]
  },
  {
   "source": [
    "## Part 2"
   ],
   "cell_type": "markdown",
   "metadata": {}
  },
  {
   "cell_type": "code",
   "execution_count": 3,
   "metadata": {},
   "outputs": [
    {
     "output_type": "stream",
     "name": "stdout",
     "text": [
      "649\nCPU times: user 5.83 ms, sys: 872 µs, total: 6.7 ms\nWall time: 6.89 ms\n"
     ]
    }
   ],
   "source": [
    "%%time\n",
    "\n",
    "seat_ids = set(map(seat_id, puzzle))\n",
    "\n",
    "print(next(filter(lambda seat: seat + 1 not in seat_ids and seat + 2 in seat_ids, seat_ids)) + 1)"
   ]
  }
 ]
}